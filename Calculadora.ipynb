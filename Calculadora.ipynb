{
  "nbformat": 4,
  "nbformat_minor": 0,
  "metadata": {
    "colab": {
      "provenance": []
    },
    "kernelspec": {
      "name": "python3",
      "display_name": "Python 3"
    },
    "language_info": {
      "name": "python"
    }
  },
  "cells": [
    {
      "cell_type": "code",
      "source": [
        "nome = input(\"digite seu nome: \")\n",
        "print(\"Olá\" , nome , \", seja bem-vindo(a)!\")\n",
        "num1 = float(input(\"selecione o primeiro número: \"))\n",
        "operaçao = input(\"selecione a operação \")\n",
        "num2 = float(input(\"selecione o segundo número: \"))\n",
        "if operaçao == \"+\":\n",
        "    print(\"o resultado é\" , num1 + num2)\n",
        "elif operaçao == \"-\":\n",
        "    print(\"o resultado é\" , num1 - num2)\n",
        "elif operaçao == \"*\":\n",
        "    print(\"o resultado é\" , num1 * num2)\n",
        "elif operaçao == \"/\":\n",
        "    print(\"o resultado é\" , num1 / num2)\n",
        "else:\n",
        "     print(\"operação inválida\")\n"
      ],
      "metadata": {
        "colab": {
          "base_uri": "https://localhost:8080/"
        },
        "id": "jq4QTgDQ9qu6",
        "outputId": "a8336bee-4791-47c8-9bc6-2c055727359e"
      },
      "execution_count": 14,
      "outputs": [
        {
          "output_type": "stream",
          "name": "stdout",
          "text": [
            "digite seu nome: Lucas\n",
            "Olá Rodrigo , seja bem-vindo(a)!\n",
            "selecione o primeiro número: 69\n",
            "selecione a operação *\n",
            "selecione o segundo número: 2\n",
            "o resultado é 138.0\n"
          ]
        }
      ]
    }
  ]
}
